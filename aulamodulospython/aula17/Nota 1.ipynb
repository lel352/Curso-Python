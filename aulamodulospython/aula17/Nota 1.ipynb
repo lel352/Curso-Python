{
 "cells": [
  {
   "cell_type": "code",
   "execution_count": 1,
   "id": "a4727f7c",
   "metadata": {},
   "outputs": [],
   "source": [
    "lista = [1, 2, 3, 4, 5, 6, 7, 8, 9, 10]"
   ]
  },
  {
   "cell_type": "code",
   "execution_count": 2,
   "id": "dab8a720",
   "metadata": {
    "scrolled": true
   },
   "outputs": [
    {
     "data": {
      "text/plain": [
       "[1, 2, 3, 4, 5, 6, 7, 8, 9, 10]"
      ]
     },
     "execution_count": 2,
     "metadata": {},
     "output_type": "execute_result"
    }
   ],
   "source": [
    "lista"
   ]
  },
  {
   "cell_type": "code",
   "execution_count": 3,
   "id": "8cd26951",
   "metadata": {},
   "outputs": [],
   "source": [
    "a = 5\n",
    "b = 6"
   ]
  },
  {
   "cell_type": "code",
   "execution_count": 8,
   "id": "ed7970cb",
   "metadata": {},
   "outputs": [
    {
     "name": "stdout",
     "output_type": "stream",
     "text": [
      "11\n"
     ]
    }
   ],
   "source": [
    "print(a + b)"
   ]
  },
  {
   "cell_type": "markdown",
   "id": "deaab867",
   "metadata": {},
   "source": [
    "# este é meu título \n",
    "este é meu texto\n",
    "## este é meu subtítulo\n",
    "este é outro testo\n",
    "* uma linha\n",
    "* outra linha\n",
    "* outra linha"
   ]
  },
  {
   "cell_type": "code",
   "execution_count": 10,
   "id": "e3190fbe",
   "metadata": {},
   "outputs": [
    {
     "data": {
      "text/html": [
       "<p> Um <strong>Texto</strong> qualquer </p>\n"
      ],
      "text/plain": [
       "<IPython.core.display.HTML object>"
      ]
     },
     "metadata": {},
     "output_type": "display_data"
    }
   ],
   "source": [
    "%%HTML\n",
    "<p> Um <strong>Texto</strong> qualquer </p>"
   ]
  },
  {
   "cell_type": "code",
   "execution_count": null,
   "id": "f658c04f",
   "metadata": {},
   "outputs": [],
   "source": []
  }
 ],
 "metadata": {
  "kernelspec": {
   "display_name": "Python 3 (ipykernel)",
   "language": "python",
   "name": "python3"
  },
  "language_info": {
   "codemirror_mode": {
    "name": "ipython",
    "version": 3
   },
   "file_extension": ".py",
   "mimetype": "text/x-python",
   "name": "python",
   "nbconvert_exporter": "python",
   "pygments_lexer": "ipython3",
   "version": "3.8.5"
  }
 },
 "nbformat": 4,
 "nbformat_minor": 5
}
